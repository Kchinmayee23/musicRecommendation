{
 "cells": [
  {
   "cell_type": "code",
   "execution_count": 2,
   "id": "5d51f1bf-78e1-417d-8d55-dd378b792829",
   "metadata": {},
   "outputs": [],
   "source": [
    "import pandas as pd"
   ]
  },
  {
   "cell_type": "code",
   "execution_count": 3,
   "id": "f4b5b015-0df1-4648-b16c-b36e5894547c",
   "metadata": {},
   "outputs": [],
   "source": [
    "df = pd.read_csv(\"spotify_millsongdata.csv\")"
   ]
  },
  {
   "cell_type": "code",
   "execution_count": 4,
   "id": "2cd28391-a8c1-4b69-845b-036da875cddc",
   "metadata": {},
   "outputs": [
    {
     "data": {
      "text/html": [
       "<div>\n",
       "<style scoped>\n",
       "    .dataframe tbody tr th:only-of-type {\n",
       "        vertical-align: middle;\n",
       "    }\n",
       "\n",
       "    .dataframe tbody tr th {\n",
       "        vertical-align: top;\n",
       "    }\n",
       "\n",
       "    .dataframe thead th {\n",
       "        text-align: right;\n",
       "    }\n",
       "</style>\n",
       "<table border=\"1\" class=\"dataframe\">\n",
       "  <thead>\n",
       "    <tr style=\"text-align: right;\">\n",
       "      <th></th>\n",
       "      <th>artist</th>\n",
       "      <th>song</th>\n",
       "      <th>link</th>\n",
       "      <th>text</th>\n",
       "    </tr>\n",
       "  </thead>\n",
       "  <tbody>\n",
       "    <tr>\n",
       "      <th>0</th>\n",
       "      <td>ABBA</td>\n",
       "      <td>Ahe's My Kind Of Girl</td>\n",
       "      <td>/a/abba/ahes+my+kind+of+girl_20598417.html</td>\n",
       "      <td>Look at her face, it's a wonderful face  \\r\\nA...</td>\n",
       "    </tr>\n",
       "    <tr>\n",
       "      <th>1</th>\n",
       "      <td>ABBA</td>\n",
       "      <td>Andante, Andante</td>\n",
       "      <td>/a/abba/andante+andante_20002708.html</td>\n",
       "      <td>Take it easy with me, please  \\r\\nTouch me gen...</td>\n",
       "    </tr>\n",
       "    <tr>\n",
       "      <th>2</th>\n",
       "      <td>ABBA</td>\n",
       "      <td>As Good As New</td>\n",
       "      <td>/a/abba/as+good+as+new_20003033.html</td>\n",
       "      <td>I'll never know why I had to go  \\r\\nWhy I had...</td>\n",
       "    </tr>\n",
       "    <tr>\n",
       "      <th>3</th>\n",
       "      <td>ABBA</td>\n",
       "      <td>Bang</td>\n",
       "      <td>/a/abba/bang_20598415.html</td>\n",
       "      <td>Making somebody happy is a question of give an...</td>\n",
       "    </tr>\n",
       "    <tr>\n",
       "      <th>4</th>\n",
       "      <td>ABBA</td>\n",
       "      <td>Bang-A-Boomerang</td>\n",
       "      <td>/a/abba/bang+a+boomerang_20002668.html</td>\n",
       "      <td>Making somebody happy is a question of give an...</td>\n",
       "    </tr>\n",
       "  </tbody>\n",
       "</table>\n",
       "</div>"
      ],
      "text/plain": [
       "  artist                   song                                        link  \\\n",
       "0   ABBA  Ahe's My Kind Of Girl  /a/abba/ahes+my+kind+of+girl_20598417.html   \n",
       "1   ABBA       Andante, Andante       /a/abba/andante+andante_20002708.html   \n",
       "2   ABBA         As Good As New        /a/abba/as+good+as+new_20003033.html   \n",
       "3   ABBA                   Bang                  /a/abba/bang_20598415.html   \n",
       "4   ABBA       Bang-A-Boomerang      /a/abba/bang+a+boomerang_20002668.html   \n",
       "\n",
       "                                                text  \n",
       "0  Look at her face, it's a wonderful face  \\r\\nA...  \n",
       "1  Take it easy with me, please  \\r\\nTouch me gen...  \n",
       "2  I'll never know why I had to go  \\r\\nWhy I had...  \n",
       "3  Making somebody happy is a question of give an...  \n",
       "4  Making somebody happy is a question of give an...  "
      ]
     },
     "execution_count": 4,
     "metadata": {},
     "output_type": "execute_result"
    }
   ],
   "source": [
    "df.head(5)"
   ]
  },
  {
   "cell_type": "code",
   "execution_count": 5,
   "id": "0bc231ec-8b13-4448-9b0b-c6b12bb0b94c",
   "metadata": {},
   "outputs": [
    {
     "data": {
      "text/html": [
       "<div>\n",
       "<style scoped>\n",
       "    .dataframe tbody tr th:only-of-type {\n",
       "        vertical-align: middle;\n",
       "    }\n",
       "\n",
       "    .dataframe tbody tr th {\n",
       "        vertical-align: top;\n",
       "    }\n",
       "\n",
       "    .dataframe thead th {\n",
       "        text-align: right;\n",
       "    }\n",
       "</style>\n",
       "<table border=\"1\" class=\"dataframe\">\n",
       "  <thead>\n",
       "    <tr style=\"text-align: right;\">\n",
       "      <th></th>\n",
       "      <th>artist</th>\n",
       "      <th>song</th>\n",
       "      <th>link</th>\n",
       "      <th>text</th>\n",
       "    </tr>\n",
       "  </thead>\n",
       "  <tbody>\n",
       "    <tr>\n",
       "      <th>57645</th>\n",
       "      <td>Ziggy Marley</td>\n",
       "      <td>Good Old Days</td>\n",
       "      <td>/z/ziggy+marley/good+old+days_10198588.html</td>\n",
       "      <td>Irie days come on play  \\r\\nLet the angels fly...</td>\n",
       "    </tr>\n",
       "    <tr>\n",
       "      <th>57646</th>\n",
       "      <td>Ziggy Marley</td>\n",
       "      <td>Hand To Mouth</td>\n",
       "      <td>/z/ziggy+marley/hand+to+mouth_20531167.html</td>\n",
       "      <td>Power to the workers  \\r\\nMore power  \\r\\nPowe...</td>\n",
       "    </tr>\n",
       "    <tr>\n",
       "      <th>57647</th>\n",
       "      <td>Zwan</td>\n",
       "      <td>Come With Me</td>\n",
       "      <td>/z/zwan/come+with+me_20148981.html</td>\n",
       "      <td>all you need  \\r\\nis something i'll believe  \\...</td>\n",
       "    </tr>\n",
       "    <tr>\n",
       "      <th>57648</th>\n",
       "      <td>Zwan</td>\n",
       "      <td>Desire</td>\n",
       "      <td>/z/zwan/desire_20148986.html</td>\n",
       "      <td>northern star  \\r\\nam i frightened  \\r\\nwhere ...</td>\n",
       "    </tr>\n",
       "    <tr>\n",
       "      <th>57649</th>\n",
       "      <td>Zwan</td>\n",
       "      <td>Heartsong</td>\n",
       "      <td>/z/zwan/heartsong_20148991.html</td>\n",
       "      <td>come in  \\r\\nmake yourself at home  \\r\\ni'm a ...</td>\n",
       "    </tr>\n",
       "  </tbody>\n",
       "</table>\n",
       "</div>"
      ],
      "text/plain": [
       "             artist           song  \\\n",
       "57645  Ziggy Marley  Good Old Days   \n",
       "57646  Ziggy Marley  Hand To Mouth   \n",
       "57647          Zwan   Come With Me   \n",
       "57648          Zwan         Desire   \n",
       "57649          Zwan      Heartsong   \n",
       "\n",
       "                                              link  \\\n",
       "57645  /z/ziggy+marley/good+old+days_10198588.html   \n",
       "57646  /z/ziggy+marley/hand+to+mouth_20531167.html   \n",
       "57647           /z/zwan/come+with+me_20148981.html   \n",
       "57648                 /z/zwan/desire_20148986.html   \n",
       "57649              /z/zwan/heartsong_20148991.html   \n",
       "\n",
       "                                                    text  \n",
       "57645  Irie days come on play  \\r\\nLet the angels fly...  \n",
       "57646  Power to the workers  \\r\\nMore power  \\r\\nPowe...  \n",
       "57647  all you need  \\r\\nis something i'll believe  \\...  \n",
       "57648  northern star  \\r\\nam i frightened  \\r\\nwhere ...  \n",
       "57649  come in  \\r\\nmake yourself at home  \\r\\ni'm a ...  "
      ]
     },
     "execution_count": 5,
     "metadata": {},
     "output_type": "execute_result"
    }
   ],
   "source": [
    "df.tail()"
   ]
  },
  {
   "cell_type": "code",
   "execution_count": 6,
   "id": "8e9b8a21-d81a-460d-b759-e058d6b5670a",
   "metadata": {},
   "outputs": [
    {
     "data": {
      "text/plain": [
       "(57650, 4)"
      ]
     },
     "execution_count": 6,
     "metadata": {},
     "output_type": "execute_result"
    }
   ],
   "source": [
    "df.shape"
   ]
  },
  {
   "cell_type": "code",
   "execution_count": 7,
   "id": "30601050-7a99-41a2-ae35-7ce73b0d5f79",
   "metadata": {},
   "outputs": [
    {
     "data": {
      "text/plain": [
       "artist    0\n",
       "song      0\n",
       "link      0\n",
       "text      0\n",
       "dtype: int64"
      ]
     },
     "execution_count": 7,
     "metadata": {},
     "output_type": "execute_result"
    }
   ],
   "source": [
    "df.isnull().sum()"
   ]
  },
  {
   "cell_type": "code",
   "execution_count": 8,
   "id": "3a20fb8c-e19d-40b8-96b1-902fd87f4561",
   "metadata": {},
   "outputs": [],
   "source": [
    "df = df.sample(5000).drop('link',axis = 1).reset_index(drop = True)"
   ]
  },
  {
   "cell_type": "code",
   "execution_count": 9,
   "id": "dadad03a-fbd4-4d2e-9b54-9cc8c672a052",
   "metadata": {},
   "outputs": [
    {
     "data": {
      "text/html": [
       "<div>\n",
       "<style scoped>\n",
       "    .dataframe tbody tr th:only-of-type {\n",
       "        vertical-align: middle;\n",
       "    }\n",
       "\n",
       "    .dataframe tbody tr th {\n",
       "        vertical-align: top;\n",
       "    }\n",
       "\n",
       "    .dataframe thead th {\n",
       "        text-align: right;\n",
       "    }\n",
       "</style>\n",
       "<table border=\"1\" class=\"dataframe\">\n",
       "  <thead>\n",
       "    <tr style=\"text-align: right;\">\n",
       "      <th></th>\n",
       "      <th>artist</th>\n",
       "      <th>song</th>\n",
       "      <th>text</th>\n",
       "    </tr>\n",
       "  </thead>\n",
       "  <tbody>\n",
       "    <tr>\n",
       "      <th>0</th>\n",
       "      <td>David Guetta</td>\n",
       "      <td>Toy Story</td>\n",
       "      <td>Music can be better with you  \\r\\nMusic, music...</td>\n",
       "    </tr>\n",
       "    <tr>\n",
       "      <th>1</th>\n",
       "      <td>George Strait</td>\n",
       "      <td>Need I Say More</td>\n",
       "      <td>You're the only one and only  \\r\\nMy heart's b...</td>\n",
       "    </tr>\n",
       "    <tr>\n",
       "      <th>2</th>\n",
       "      <td>Bob Seger</td>\n",
       "      <td>Louise</td>\n",
       "      <td>Louise Lyrics  \\r\\nNow Louise she is an outlaw...</td>\n",
       "    </tr>\n",
       "    <tr>\n",
       "      <th>3</th>\n",
       "      <td>Loretta Lynn</td>\n",
       "      <td>Get What'cha Got And Go</td>\n",
       "      <td>A pretty boy Charlie's the name that you've be...</td>\n",
       "    </tr>\n",
       "    <tr>\n",
       "      <th>4</th>\n",
       "      <td>Snoop Dogg</td>\n",
       "      <td>Boom</td>\n",
       "      <td>Get your money, whip ya hair  \\r\\nExecutive br...</td>\n",
       "    </tr>\n",
       "    <tr>\n",
       "      <th>5</th>\n",
       "      <td>Erasure</td>\n",
       "      <td>Gimme! Gimme! Gimme!</td>\n",
       "      <td>Half past twelve, and I'm watching the late sh...</td>\n",
       "    </tr>\n",
       "    <tr>\n",
       "      <th>6</th>\n",
       "      <td>Face To Face</td>\n",
       "      <td>Not Enough</td>\n",
       "      <td>Talk talk talk don't talk to me  \\r\\nYou've go...</td>\n",
       "    </tr>\n",
       "    <tr>\n",
       "      <th>7</th>\n",
       "      <td>Indiana Bible College</td>\n",
       "      <td>My Adonai</td>\n",
       "      <td>Intro  \\r\\nI will praise you  \\r\\nI will list ...</td>\n",
       "    </tr>\n",
       "    <tr>\n",
       "      <th>8</th>\n",
       "      <td>Uriah Heep</td>\n",
       "      <td>Gypsy</td>\n",
       "      <td>was only seventeen  \\r\\nI fell in love with a ...</td>\n",
       "    </tr>\n",
       "    <tr>\n",
       "      <th>9</th>\n",
       "      <td>Kirk Franklin</td>\n",
       "      <td>He's Able</td>\n",
       "      <td>Chorus  \\r\\nHe's able(3x)  \\r\\nI'know that he ...</td>\n",
       "    </tr>\n",
       "  </tbody>\n",
       "</table>\n",
       "</div>"
      ],
      "text/plain": [
       "                  artist                     song  \\\n",
       "0           David Guetta                Toy Story   \n",
       "1          George Strait          Need I Say More   \n",
       "2              Bob Seger                   Louise   \n",
       "3           Loretta Lynn  Get What'cha Got And Go   \n",
       "4             Snoop Dogg                     Boom   \n",
       "5                Erasure     Gimme! Gimme! Gimme!   \n",
       "6           Face To Face               Not Enough   \n",
       "7  Indiana Bible College                My Adonai   \n",
       "8             Uriah Heep                    Gypsy   \n",
       "9          Kirk Franklin                He's Able   \n",
       "\n",
       "                                                text  \n",
       "0  Music can be better with you  \\r\\nMusic, music...  \n",
       "1  You're the only one and only  \\r\\nMy heart's b...  \n",
       "2  Louise Lyrics  \\r\\nNow Louise she is an outlaw...  \n",
       "3  A pretty boy Charlie's the name that you've be...  \n",
       "4  Get your money, whip ya hair  \\r\\nExecutive br...  \n",
       "5  Half past twelve, and I'm watching the late sh...  \n",
       "6  Talk talk talk don't talk to me  \\r\\nYou've go...  \n",
       "7  Intro  \\r\\nI will praise you  \\r\\nI will list ...  \n",
       "8  was only seventeen  \\r\\nI fell in love with a ...  \n",
       "9  Chorus  \\r\\nHe's able(3x)  \\r\\nI'know that he ...  "
      ]
     },
     "execution_count": 9,
     "metadata": {},
     "output_type": "execute_result"
    }
   ],
   "source": [
    "df.head(10)"
   ]
  },
  {
   "cell_type": "code",
   "execution_count": 10,
   "id": "3d205601-4321-4bd4-b2a3-3eff08d7a344",
   "metadata": {},
   "outputs": [
    {
     "data": {
      "text/plain": [
       "'Music can be better with you  \\r\\nMusic, music, music, music  \\r\\nMusic, music, music, music  \\r\\nMusic, music  \\r\\nMusic can be better with you  \\r\\nMusic can be better with you  \\r\\nMusic can be better with you  \\r\\nMusic can be better with you  \\r\\nMusic can be better with you  \\r\\nMusic can be better with you  \\r\\nMusic can be better with you  \\r\\nMusic can be better with you  \\r\\nMusic can be better with you  \\r\\nMusic, music, music, music  \\r\\nMusic, music, music, music  \\r\\nMusic, music\\r\\n\\r\\n'"
      ]
     },
     "execution_count": 10,
     "metadata": {},
     "output_type": "execute_result"
    }
   ],
   "source": [
    "df['text'][0]"
   ]
  },
  {
   "cell_type": "code",
   "execution_count": null,
   "id": "aaf1986c-08f3-4e22-896d-fdd58ea06e0c",
   "metadata": {},
   "outputs": [],
   "source": []
  },
  {
   "cell_type": "code",
   "execution_count": 11,
   "id": "db7dd30a-abad-42d7-8880-819388769d33",
   "metadata": {},
   "outputs": [
    {
     "data": {
      "text/plain": [
       "(5000, 3)"
      ]
     },
     "execution_count": 11,
     "metadata": {},
     "output_type": "execute_result"
    }
   ],
   "source": [
    "df.shape"
   ]
  },
  {
   "cell_type": "markdown",
   "id": "0d36e7c9-7186-4946-be88-caca5bcab439",
   "metadata": {},
   "source": [
    "text preprocessing"
   ]
  },
  {
   "cell_type": "code",
   "execution_count": 12,
   "id": "a6f1e070-c7ce-474b-a30f-f92775fc9b1e",
   "metadata": {},
   "outputs": [],
   "source": [
    "df['text'] = df['text'].str.lower().replace(r'^\\w\\s','').replace(r'\\n',' ',regex = True)"
   ]
  },
  {
   "cell_type": "code",
   "execution_count": 13,
   "id": "87081936-1e9a-4609-874d-a0443de1405e",
   "metadata": {},
   "outputs": [
    {
     "data": {
      "text/html": [
       "<div>\n",
       "<style scoped>\n",
       "    .dataframe tbody tr th:only-of-type {\n",
       "        vertical-align: middle;\n",
       "    }\n",
       "\n",
       "    .dataframe tbody tr th {\n",
       "        vertical-align: top;\n",
       "    }\n",
       "\n",
       "    .dataframe thead th {\n",
       "        text-align: right;\n",
       "    }\n",
       "</style>\n",
       "<table border=\"1\" class=\"dataframe\">\n",
       "  <thead>\n",
       "    <tr style=\"text-align: right;\">\n",
       "      <th></th>\n",
       "      <th>artist</th>\n",
       "      <th>song</th>\n",
       "      <th>text</th>\n",
       "    </tr>\n",
       "  </thead>\n",
       "  <tbody>\n",
       "    <tr>\n",
       "      <th>4995</th>\n",
       "      <td>Steve Miller Band</td>\n",
       "      <td>Journey From Eden</td>\n",
       "      <td>listen to the blackbird sadly sing  \\r for you...</td>\n",
       "    </tr>\n",
       "    <tr>\n",
       "      <th>4996</th>\n",
       "      <td>Olivia Newton-John</td>\n",
       "      <td>Follow Me</td>\n",
       "      <td>it's by far the hardest thing i've ever done  ...</td>\n",
       "    </tr>\n",
       "    <tr>\n",
       "      <th>4997</th>\n",
       "      <td>Radiohead</td>\n",
       "      <td>Separator</td>\n",
       "      <td>it's like i'm fallen out of bed  \\r from a lon...</td>\n",
       "    </tr>\n",
       "    <tr>\n",
       "      <th>4998</th>\n",
       "      <td>Alice Cooper</td>\n",
       "      <td>Life And Death Of The Party</td>\n",
       "      <td>you walk into the room, everybody stares  \\r t...</td>\n",
       "    </tr>\n",
       "    <tr>\n",
       "      <th>4999</th>\n",
       "      <td>Dan Fogelberg</td>\n",
       "      <td>Make Love Stay</td>\n",
       "      <td>now that we love  \\r now that the lonely night...</td>\n",
       "    </tr>\n",
       "  </tbody>\n",
       "</table>\n",
       "</div>"
      ],
      "text/plain": [
       "                  artist                         song  \\\n",
       "4995   Steve Miller Band            Journey From Eden   \n",
       "4996  Olivia Newton-John                    Follow Me   \n",
       "4997           Radiohead                    Separator   \n",
       "4998        Alice Cooper  Life And Death Of The Party   \n",
       "4999       Dan Fogelberg               Make Love Stay   \n",
       "\n",
       "                                                   text  \n",
       "4995  listen to the blackbird sadly sing  \\r for you...  \n",
       "4996  it's by far the hardest thing i've ever done  ...  \n",
       "4997  it's like i'm fallen out of bed  \\r from a lon...  \n",
       "4998  you walk into the room, everybody stares  \\r t...  \n",
       "4999  now that we love  \\r now that the lonely night...  "
      ]
     },
     "execution_count": 13,
     "metadata": {},
     "output_type": "execute_result"
    }
   ],
   "source": [
    "df.tail()"
   ]
  },
  {
   "cell_type": "code",
   "execution_count": 14,
   "id": "3f2aa2a0-f45d-414a-93dc-7bec8ea46520",
   "metadata": {},
   "outputs": [],
   "source": [
    "import nltk\n",
    "from nltk.stem.porter import PorterStemmer"
   ]
  },
  {
   "cell_type": "code",
   "execution_count": 15,
   "id": "8f10f97a-1cef-4fab-83f3-e2d7087e068e",
   "metadata": {},
   "outputs": [],
   "source": [
    "stemmer = PorterStemmer()"
   ]
  },
  {
   "cell_type": "code",
   "execution_count": 16,
   "id": "3919b72b-e759-4c7f-91f4-95c51239aa9a",
   "metadata": {},
   "outputs": [],
   "source": [
    "def token(txt):\n",
    "    token = nltk.word_tokenize(txt)\n",
    "    a = [stemmer.stem(w) for w in token]\n",
    "    return \" \".join(a)"
   ]
  },
  {
   "cell_type": "code",
   "execution_count": 17,
   "id": "0f347dff-e4f2-4dce-bd7c-effcd023768c",
   "metadata": {},
   "outputs": [
    {
     "data": {
      "text/plain": [
       "'you are beauti'"
      ]
     },
     "execution_count": 17,
     "metadata": {},
     "output_type": "execute_result"
    }
   ],
   "source": [
    "token(\"you are beautiful\")"
   ]
  },
  {
   "cell_type": "code",
   "execution_count": 18,
   "id": "d142c0f4-46c0-4011-b69c-025482ec3bd8",
   "metadata": {},
   "outputs": [
    {
     "data": {
      "text/plain": [
       "0       music can be better with you music , music , m...\n",
       "1       you 're the onli one and onli my heart 's beat...\n",
       "2       louis lyric now louis she is an outlaw , in th...\n",
       "3       a pretti boy charli 's the name that you 've b...\n",
       "4       get your money , whip ya hair execut branch bl...\n",
       "                              ...                        \n",
       "4995    listen to the blackbird sadli sing for you , f...\n",
       "4996    it 's by far the hardest thing i 've ever done...\n",
       "4997    it 's like i 'm fallen out of bed from a long ...\n",
       "4998    you walk into the room , everybodi stare the t...\n",
       "4999    now that we love now that the lone night are o...\n",
       "Name: text, Length: 5000, dtype: object"
      ]
     },
     "execution_count": 18,
     "metadata": {},
     "output_type": "execute_result"
    }
   ],
   "source": [
    "df['text'].apply(lambda x: token(x))"
   ]
  },
  {
   "cell_type": "code",
   "execution_count": 19,
   "id": "60005858-080c-43ea-938a-59931ecb3e6e",
   "metadata": {},
   "outputs": [],
   "source": [
    "from sklearn.feature_extraction.text import TfidfVectorizer\n",
    "from sklearn.metrics.pairwise import cosine_similarity"
   ]
  },
  {
   "cell_type": "code",
   "execution_count": 20,
   "id": "49f4052e-dffb-4ed1-b7e7-8f93595baa07",
   "metadata": {},
   "outputs": [],
   "source": [
    "tfidf = TfidfVectorizer(analyzer = 'word',stop_words = 'english')"
   ]
  },
  {
   "cell_type": "code",
   "execution_count": 21,
   "id": "a33a589c-d4d5-4967-8224-f27b75b26047",
   "metadata": {},
   "outputs": [],
   "source": [
    "matrix = tfidf.fit_transform(df['text'])"
   ]
  },
  {
   "cell_type": "code",
   "execution_count": 22,
   "id": "9892018f-fd71-443e-9fd8-ba3ab6d9424f",
   "metadata": {},
   "outputs": [],
   "source": [
    "similar = cosine_similarity(matrix)"
   ]
  },
  {
   "cell_type": "code",
   "execution_count": 23,
   "id": "a8f05d2a-ca56-4f14-b90c-d687e40b31f7",
   "metadata": {},
   "outputs": [
    {
     "data": {
      "text/plain": [
       "array([1., 0., 0., ..., 0., 0., 0.])"
      ]
     },
     "execution_count": 23,
     "metadata": {},
     "output_type": "execute_result"
    }
   ],
   "source": [
    "similar[0]"
   ]
  },
  {
   "cell_type": "code",
   "execution_count": 25,
   "id": "ff1b9cc8-a241-4a13-bad2-e63b9adb6387",
   "metadata": {},
   "outputs": [
    {
     "data": {
      "text/plain": [
       "4997"
      ]
     },
     "execution_count": 25,
     "metadata": {},
     "output_type": "execute_result"
    }
   ],
   "source": [
    "df[df['song'] == \"Separator\"].index[0]"
   ]
  },
  {
   "cell_type": "markdown",
   "id": "83f9938d-27e1-4f50-baf4-a1d9ff862ee6",
   "metadata": {},
   "source": [
    "Recommender function"
   ]
  },
  {
   "cell_type": "code",
   "execution_count": 26,
   "id": "1d30699f-aef2-4f26-a739-03f5541248a3",
   "metadata": {},
   "outputs": [],
   "source": [
    "def recommender(song_name):\n",
    "    idx = df[df['song'] == song_name].index[0]\n",
    "    distance = sorted(list(enumerate(similar[idx])),reverse = True,key = lambda x:x[1])\n",
    "    song = []\n",
    "    for s_id in distance[1:21]:\n",
    "        song.append(df.iloc[s_id[0]].song)\n",
    "    return song"
   ]
  },
  {
   "cell_type": "code",
   "execution_count": 27,
   "id": "d8edaa53-61fd-4565-92b4-0e62a0a2c284",
   "metadata": {},
   "outputs": [
    {
     "data": {
      "text/plain": [
       "['Layla',\n",
       " 'Sweet Wine',\n",
       " 'Father O.S.A.',\n",
       " 'Baby Driver',\n",
       " 'Mirror, Mirror',\n",
       " 'Magic Mirror',\n",
       " 'El Ha Mayaan',\n",
       " 'Feel It',\n",
       " 'Everywhere',\n",
       " \"Don't Look In My Eyes\",\n",
       " 'Look Out For My Love',\n",
       " 'Feel So Real',\n",
       " 'Love At First Sight',\n",
       " 'I Like You',\n",
       " \"Small Y'all\",\n",
       " 'Make Me Feel',\n",
       " 'All Eyes',\n",
       " 'Time After Time',\n",
       " 'Until The End Of Time',\n",
       " 'Just One Last Look']"
      ]
     },
     "execution_count": 27,
     "metadata": {},
     "output_type": "execute_result"
    }
   ],
   "source": [
    "recommender(\"In Your Eyes\")"
   ]
  },
  {
   "cell_type": "code",
   "execution_count": 28,
   "id": "1d9ec1d3-5939-4f60-83ec-2f6f2994f967",
   "metadata": {},
   "outputs": [],
   "source": [
    "import pickle"
   ]
  },
  {
   "cell_type": "code",
   "execution_count": 31,
   "id": "86461b24-8101-4cfc-aa80-607d000f9d8b",
   "metadata": {},
   "outputs": [],
   "source": [
    "pickle.dump(similar,open(\"similarity.pkl\",\"wb\"))"
   ]
  },
  {
   "cell_type": "code",
   "execution_count": 32,
   "id": "32a8b8ae-7642-42aa-b647-372746c35e16",
   "metadata": {},
   "outputs": [],
   "source": [
    "pickle.dump(df,open(\"df.pkl\",\"wb\"))"
   ]
  },
  {
   "cell_type": "code",
   "execution_count": null,
   "id": "48f183d3-43bd-4875-a485-fdf2a8ff02fd",
   "metadata": {},
   "outputs": [],
   "source": []
  }
 ],
 "metadata": {
  "kernelspec": {
   "display_name": "Python 3 (ipykernel)",
   "language": "python",
   "name": "python3"
  },
  "language_info": {
   "codemirror_mode": {
    "name": "ipython",
    "version": 3
   },
   "file_extension": ".py",
   "mimetype": "text/x-python",
   "name": "python",
   "nbconvert_exporter": "python",
   "pygments_lexer": "ipython3",
   "version": "3.12.4"
  }
 },
 "nbformat": 4,
 "nbformat_minor": 5
}
